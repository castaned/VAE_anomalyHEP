{
 "cells": [
  {
   "cell_type": "code",
   "execution_count": 22,
   "id": "03cef64d-8132-4448-bec9-aae8c65ee7b2",
   "metadata": {},
   "outputs": [],
   "source": [
    "# general libraries\n",
    "import numpy as np\n",
    "import pandas as pd\n",
    "import time\n",
    "import sys\n",
    "import seaborn as sns\n",
    "import matplotlib.pyplot as plt\n",
    "\n",
    "# tensorflow libraries\n",
    "import tensorflow as tf\n",
    "import os\n",
    "import tensorflow.keras as keras\n",
    "from tensorflow.keras.layers import Input, Dense\n",
    "from tensorflow.keras.models import Model"
   ]
  },
  {
   "cell_type": "code",
   "execution_count": 25,
   "id": "bc3e8147-9bd1-44a9-9eb3-fbabd8b6168b",
   "metadata": {},
   "outputs": [],
   "source": [
    "from keras.datasets import mnist\n",
    "import numpy as np\n",
    "(mnist_x_train, mnist_y_train), (mnist_x_test, mnist_y_test) = mnist.load_data()"
   ]
  },
  {
   "cell_type": "code",
   "execution_count": 26,
   "id": "734f99bc-125c-43ba-857b-3745251bb9d6",
   "metadata": {},
   "outputs": [],
   "source": [
    "mnist_x_train = mnist_x_train.astype('float32') / 255.\n",
    "mnist_x_test = mnist_x_test.astype('float32') / 255.\n",
    "mnist_x_train = mnist_x_train.reshape((len(mnist_x_train), np.prod(mnist_x_train.shape[1:])))\n",
    "mnist_x_test = mnist_x_test.reshape((len(mnist_x_test), np.prod(mnist_x_test.shape[1:])))"
   ]
  },
  {
   "cell_type": "code",
   "execution_count": 27,
   "id": "9f40dcbd-e47c-47f1-b8ed-b63acd050f5a",
   "metadata": {},
   "outputs": [],
   "source": [
    "from keras.datasets import fashion_mnist\n",
    "import numpy as np\n",
    "(fashion_x_train, fashion_y_train), (fashion_x_test, fashion_y_test) = fashion_mnist.load_data()"
   ]
  },
  {
   "cell_type": "code",
   "execution_count": 28,
   "id": "ab0f01a1-b02c-4d94-b6fb-6472246670b7",
   "metadata": {},
   "outputs": [],
   "source": [
    "fashion_x_train = fashion_x_train.astype('float32') / 255.\n",
    "fashion_x_test = fashion_x_test.astype('float32') / 255.\n",
    "fashion_x_train = fashion_x_train.reshape((len(fashion_x_train), np.prod(fashion_x_train.shape[1:])))\n",
    "fashion_x_test = fashion_x_test.reshape((len(fashion_x_test), np.prod(fashion_x_test.shape[1:])))"
   ]
  },
  {
   "cell_type": "code",
   "execution_count": 29,
   "id": "be294827-10a6-4310-8bed-24b366c4acee",
   "metadata": {},
   "outputs": [
    {
     "name": "stdout",
     "output_type": "stream",
     "text": [
      "(10001, 784)\n"
     ]
    }
   ],
   "source": [
    "x_test = np.concatenate((mnist_x_test, fashion_x_test[0].reshape(1,784)))\n",
    "print(x_test.shape)"
   ]
  },
  {
   "cell_type": "code",
   "execution_count": 30,
   "id": "4e692ac6-0040-4fb1-a651-c06f16acec5e",
   "metadata": {},
   "outputs": [
    {
     "data": {
      "text/plain": [
       "<matplotlib.image.AxesImage at 0x7fca544b36a0>"
      ]
     },
     "execution_count": 30,
     "metadata": {},
     "output_type": "execute_result"
    },
    {
     "data": {
      "image/png": "[encoded data removed]",
      "text/plain": [
       "<Figure size 640x480 with 1 Axes>"
      ]
     },
     "metadata": {},
     "output_type": "display_data"
    }
   ],
   "source": [
    "plt.gray()\n",
    "plt.tick_params(axis = 'x', which = 'both', bottom = False, top = False, \n",
    "                labelbottom = False) \n",
    "plt.tick_params(axis = 'y', which = 'both', left = False, right = False, \n",
    "                labelleft = False)\n",
    "\n",
    "plt.imshow(mnist_x_test[10].reshape(28, 28))"
   ]
  },
  {
   "cell_type": "code",
   "execution_count": 31,
   "id": "472f2267-d5a7-4774-b6ac-64eb9f02d738",
   "metadata": {},
   "outputs": [
    {
     "data": {
      "image/png": "[encoded data removed]",
      "text/plain": [
       "<Figure size 640x480 with 1 Axes>"
      ]
     },
     "metadata": {},
     "output_type": "display_data"
    }
   ],
   "source": [
    "plt.gray()\n",
    "plt.tick_params(axis = 'x', which = 'both', bottom = False, top = False, \n",
    "                labelbottom = False) \n",
    "plt.tick_params(axis = 'y', which = 'both', left = False, right = False, \n",
    "                labelleft = False)\n",
    "\n",
    "plt.imshow(fashion_x_test[0].reshape(28, 28))\n",
    "plt.show()"
   ]
  },
  {
   "cell_type": "code",
   "execution_count": 32,
   "id": "c6b428e9-3e87-48bb-89a5-b82c215389af",
   "metadata": {},
   "outputs": [],
   "source": [
    "def create_autoencoders(feature_layer_dim = 16):\n",
    "  input_img = Input(shape = (784,), name = 'Input_Layer')\n",
    "  # 784 is the total number of pixels of MNIST images\n",
    "\n",
    "  # The layer encoded has a dimension equal to feature_layer_dim and contains\n",
    "  # the encoded input (therefore the name)\n",
    "  encoded = Dense(feature_layer_dim, activation = 'relu', name = 'Encoded_Features')(input_img)\n",
    "  decoded = Dense(784, activation = 'sigmoid', name = 'Decoded_Input')(encoded)\n",
    "\n",
    "  autoencoder = Model(input_img, decoded)\n",
    "  encoder = Model(input_img, encoded)\n",
    "\n",
    "  encoded_input = Input(shape = (feature_layer_dim,))\n",
    "  decoder = autoencoder.layers[-1]\n",
    "  decoder = Model(encoded_input, decoder(encoded_input))\n",
    "\n",
    "  return autoencoder, encoder, decoder"
   ]
  },
  {
   "cell_type": "code",
   "execution_count": 33,
   "id": "a557ec11-7fa6-4c66-b132-a25229a566df",
   "metadata": {},
   "outputs": [
    {
     "name": "stdout",
     "output_type": "stream",
     "text": [
      "('Failed to import pydot. You must `pip install pydot` and install graphviz (https://graphviz.gitlab.io/download/), ', 'for `pydotprint` to work.')\n"
     ]
    }
   ],
   "source": [
    "autoencoder, encoder, decoder = create_autoencoders(64)\n",
    "keras.utils.plot_model(autoencoder, show_shapes = True)"
   ]
  },
  {
   "cell_type": "code",
   "execution_count": 34,
   "id": "ef3be378-345b-4420-a80f-15ca5827620c",
   "metadata": {},
   "outputs": [],
   "source": [
    "autoencoder.compile(optimizer = 'adam', loss = 'binary_crossentropy')"
   ]
  },
  {
   "cell_type": "code",
   "execution_count": 45,
   "id": "77c5df3d-a4f8-485b-83f0-93c4866a0c5c",
   "metadata": {},
   "outputs": [],
   "source": [
    "history = autoencoder.fit(mnist_x_train, mnist_x_train,\n",
    "                          epochs = 30,\n",
    "                          batch_size = 256,\n",
    "                          shuffle = True,\n",
    "                          validation_data = (mnist_x_test, mnist_x_test),\n",
    "                          verbose = 0)\n",
    "autoencoder.save('autoencoder_model.h5')"
   ]
  },
  {
   "cell_type": "code",
   "execution_count": 36,
   "id": "81fc5d9c-54d9-4b9a-8315-2e6b995ab344",
   "metadata": {},
   "outputs": [],
   "source": [
    "encoded_imgs = encoder.predict(x_test)\n",
    "decoded_imgs = decoder.predict(encoded_imgs)"
   ]
  },
  {
   "cell_type": "code",
   "execution_count": 37,
   "id": "25f24398-14b6-45b2-a660-477fdb2d38b5",
   "metadata": {},
   "outputs": [
    {
     "data": {
      "text/plain": [
       "0.05737761"
      ]
     },
     "execution_count": 37,
     "metadata": {},
     "output_type": "execute_result"
    }
   ],
   "source": [
    "RE = ((x_test - decoded_imgs)**2).mean(axis = 1)\n",
    "RE_original = RE.copy()\n",
    "RE[-1]"
   ]
  },
  {
   "cell_type": "code",
   "execution_count": 38,
   "id": "c2a822e7-9bff-447c-bfe4-5f73262a1dec",
   "metadata": {},
   "outputs": [
    {
     "name": "stdout",
     "output_type": "stream",
     "text": [
      "[0.01673208 0.01683499 0.01685044 0.01689363 0.01715135 0.01741298\n",
      " 0.0174286  0.01807334 0.01862004 0.01961629 0.05737761]\n"
     ]
    }
   ],
   "source": [
    "RE.sort()\n",
    "print(RE[9990:])"
   ]
  },
  {
   "cell_type": "code",
   "execution_count": 39,
   "id": "b1009489-53bd-47ed-9a9a-3e8e3832b4a9",
   "metadata": {},
   "outputs": [],
   "source": [
    "biggest_re_pos = np.argmax(RE_original)"
   ]
  },
  {
   "cell_type": "code",
   "execution_count": 40,
   "id": "fb431064-2755-4b5f-9884-5759adbb17ef",
   "metadata": {},
   "outputs": [
    {
     "data": {
      "text/plain": [
       "<matplotlib.image.AxesImage at 0x7fca75bbad30>"
      ]
     },
     "execution_count": 40,
     "metadata": {},
     "output_type": "execute_result"
    },
    {
     "data": {
      "image/png": "[encoded data removed]",
      "text/plain": [
       "<Figure size 1400x700 with 2 Axes>"
      ]
     },
     "metadata": {},
     "output_type": "display_data"
    }
   ],
   "source": [
    "fig = plt.figure(figsize = (14, 7))\n",
    "\n",
    "ax = fig.add_subplot(1, 2, 1)\n",
    "plt.title('Original Image', fontsize = 16)\n",
    "\n",
    "plt.gray()\n",
    "plt.tick_params(axis = 'x', which = 'both', bottom = False, top = False, \n",
    "                labelbottom = False) \n",
    "plt.tick_params(axis = 'y', which = 'both', left = False, right = False, \n",
    "                labelleft = False)\n",
    "\n",
    "plt.imshow(x_test[biggest_re_pos].reshape(28, 28))\n",
    "\n",
    "ax = fig.add_subplot(1, 2, 2)\n",
    "plt.title('Reconstructed Image', fontsize = 16)\n",
    "plt.gray()\n",
    "plt.tick_params(axis = 'x', which = 'both', bottom = False, top = False, \n",
    "                labelbottom = False) \n",
    "plt.tick_params(axis = 'y', which = 'both', left = False, right = False, \n",
    "                labelleft = False)\n",
    "\n",
    "plt.imshow(decoded_imgs[biggest_re_pos].reshape(28, 28))"
   ]
  },
  {
   "cell_type": "code",
   "execution_count": 41,
   "id": "c6c1d4c9-0b0c-4640-bf85-37327cbd5b1e",
   "metadata": {},
   "outputs": [],
   "source": [
    "second_biggest_re_pos = list(RE_original).index(RE[-2])"
   ]
  },
  {
   "cell_type": "code",
   "execution_count": 42,
   "id": "13064f3d-930b-414d-9538-0c514e9fda16",
   "metadata": {},
   "outputs": [
    {
     "data": {
      "text/plain": [
       "<matplotlib.image.AxesImage at 0x7fca75335820>"
      ]
     },
     "execution_count": 42,
     "metadata": {},
     "output_type": "execute_result"
    },
    {
     "data": {
      "image/png": "[encoded data removed]",
      "text/plain": [
       "<Figure size 1400x700 with 2 Axes>"
      ]
     },
     "metadata": {},
     "output_type": "display_data"
    }
   ],
   "source": [
    "fig = plt.figure(figsize = (14, 7))\n",
    "\n",
    "ax = fig.add_subplot(1, 2, 1)\n",
    "plt.tick_params(axis = 'x', which = 'both', bottom = False, top = False, \n",
    "                labelbottom = False) \n",
    "plt.tick_params(axis = 'y', which = 'both', left = False, right = False, \n",
    "                labelleft = False)\n",
    "plt.title('Original Image', fontsize = 16)\n",
    "plt.gray()\n",
    "plt.imshow(x_test[second_biggest_re_pos].reshape(28, 28))\n",
    "\n",
    "ax = fig.add_subplot(1, 2, 2)\n",
    "plt.tick_params(axis = 'x', which = 'both', bottom = False, top = False, \n",
    "                labelbottom = False) \n",
    "plt.tick_params(axis = 'y', which = 'both', left = False, right = False, \n",
    "                labelleft = False)\n",
    "plt.title('Reconstructed Image', fontsize = 16)\n",
    "plt.gray()\n",
    "plt.imshow(decoded_imgs[second_biggest_re_pos].reshape(28, 28))"
   ]
  },
  {
   "cell_type": "code",
   "execution_count": 43,
   "id": "ad391dc6-e2d8-4ba5-a86a-936792830f2d",
   "metadata": {},
   "outputs": [],
   "source": [
    "third_biggest_re_pos = list(RE_original).index(RE[-3])"
   ]
  },
  {
   "cell_type": "code",
   "execution_count": 44,
   "id": "74d02b3a-746f-4368-b58f-68820bb8c5b0",
   "metadata": {},
   "outputs": [
    {
     "data": {
      "text/plain": [
       "<matplotlib.image.AxesImage at 0x7fca752599a0>"
      ]
     },
     "execution_count": 44,
     "metadata": {},
     "output_type": "execute_result"
    },
    {
     "data": {
      "image/png": "[encoded data removed]",
      "text/plain": [
       "<Figure size 1400x700 with 2 Axes>"
      ]
     },
     "metadata": {},
     "output_type": "display_data"
    }
   ],
   "source": [
    "fig = plt.figure(figsize = (14, 7))\n",
    "\n",
    "ax = fig.add_subplot(1, 2, 1)\n",
    "plt.title('Original Image', fontsize = 16)\n",
    "plt.gray()\n",
    "plt.imshow(x_test[third_biggest_re_pos].reshape(28,28))\n",
    "\n",
    "ax = fig.add_subplot(1, 2, 2)\n",
    "plt.title('Reconstructed Image', fontsize = 16)\n",
    "plt.gray()\n",
    "plt.imshow(decoded_imgs[third_biggest_re_pos].reshape(28,28))"
   ]
  },
  {
   "cell_type": "code",
   "execution_count": null,
   "id": "a1a7b360-968e-42b6-8c8d-c980882ca99e",
   "metadata": {},
   "outputs": [],
   "source": []
  }
 ],
 "metadata": {
  "kernelspec": {
   "display_name": "TF24",
   "language": "python",
   "name": "tf24"
  },
  "language_info": {
   "codemirror_mode": {
    "name": "ipython",
    "version": 3
   },
   "file_extension": ".py",
   "mimetype": "text/x-python",
   "name": "python",
   "nbconvert_exporter": "python",
   "pygments_lexer": "ipython3",
   "version": "3.8.5"
  }
 },
 "nbformat": 4,
 "nbformat_minor": 5
}
